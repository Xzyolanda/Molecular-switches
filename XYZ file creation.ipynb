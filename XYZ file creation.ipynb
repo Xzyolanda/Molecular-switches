{
 "cells": [
  {
   "cell_type": "code",
   "execution_count": 1,
   "metadata": {},
   "outputs": [
    {
     "name": "stderr",
     "output_type": "stream",
     "text": [
      "RDKit WARNING: [23:29:04] Enabling RDKit 2019.09.3 jupyter extensions\n"
     ]
    }
   ],
   "source": [
    "import pandas as pd\n",
    "import openbabel as ob\n",
    "from rdkit.Chem.SaltRemover import SaltRemover\n",
    "from rdkit import Chem\n",
    "from rdkit.Chem import AllChem\n",
    "import numpy as np\n",
    "import random\n",
    "from random import randint\n",
    "from rdkit.Chem.EnumerateStereoisomers import EnumerateStereoisomers, GetStereoisomerCount"
   ]
  },
  {
   "cell_type": "markdown",
   "metadata": {},
   "source": [
    "## Azobenzenes"
   ]
  },
  {
   "cell_type": "code",
   "execution_count": 3,
   "metadata": {},
   "outputs": [],
   "source": [
    "AZO_SMI = pd.read_csv(\"Azobenzene_Isomers.csv\", sep=',', header=0)\n",
    "AZO_ID = AZO_SMI.iloc[:,3].tolist()\n",
    "AZO_TRANS = AZO_SMI.iloc[:,1].tolist()\n",
    "AZO_CIS = AZO_SMI.iloc[:,2].tolist()"
   ]
  },
  {
   "cell_type": "code",
   "execution_count": 3,
   "metadata": {},
   "outputs": [
    {
     "data": {
      "text/plain": [
       "14001"
      ]
     },
     "execution_count": 3,
     "metadata": {},
     "output_type": "execute_result"
    }
   ],
   "source": [
    "len(AZO_ID)"
   ]
  },
  {
   "cell_type": "code",
   "execution_count": 4,
   "metadata": {},
   "outputs": [],
   "source": [
    "obConversion = ob.OBConversion()\n",
    "obConversion.SetInAndOutFormats(\"sdf\", \"xyz\")\n",
    "remover = SaltRemover(defnData=\"[Cl,Br]\")\n",
    "charges=[]\n",
    "#Generate xyz coordinates files\n",
    "for i in range(4000):\n",
    "    smi = AZO_TRANS[i]\n",
    "    m = Chem.MolFromSmiles(smi)\n",
    "    #Gemove salts and add H\n",
    "    res = remover.StripMol(m)\n",
    "    m2 = Chem.AddHs(res)\n",
    "    \n",
    "    AllChem.EmbedMolecule(m2,useRandomCoords=True)\n",
    "    AllChem.MMFFOptimizeMolecule(m2)\n",
    "    mol_sdf = Chem.MolToMolBlock(m2)\n",
    "\n",
    "    mol = ob.OBMol()\n",
    "    test = obConversion.ReadString(mol, mol_sdf)\n",
    "    xyz = obConversion.WriteString(mol)\n",
    "    xyz = xyz.split(\"\\n\",2)[2]\n",
    "    name = AZO_ID[i]\n",
    "    line = str(int(len(xyz)/49))\n",
    "    f = open('AZO_TRANS-{}.xyz'.format(name),'w+')\n",
    "    f.write(line)\n",
    "    f.write('\\n')\n",
    "    f.write('Molecule ID: {}\\n'.format(name))\n",
    "    f.write(xyz)\n",
    "    f.write('\\n\\n\\n\\n\\n')"
   ]
  },
  {
   "cell_type": "code",
   "execution_count": 4,
   "metadata": {},
   "outputs": [],
   "source": [
    "obConversion = ob.OBConversion()\n",
    "obConversion.SetInAndOutFormats(\"sdf\", \"xyz\")\n",
    "remover = SaltRemover(defnData=\"[Cl,Br]\")\n",
    "charges=[]\n",
    "#Generate xyz coordinates files\n",
    "for i in range(4000):\n",
    "    smi = AZO_CIS[i]\n",
    "    m = Chem.MolFromSmiles(smi)\n",
    "    res = remover.StripMol(m)\n",
    "    m2 = Chem.AddHs(res)\n",
    "    \n",
    "    AllChem.EmbedMolecule(m2,useRandomCoords=True)\n",
    "    AllChem.MMFFOptimizeMolecule(m2)\n",
    "    mol_sdf = Chem.MolToMolBlock(m2)\n",
    "\n",
    "    mol = ob.OBMol()\n",
    "    test = obConversion.ReadString(mol, mol_sdf)\n",
    "    xyz = obConversion.WriteString(mol)\n",
    "    xyz = xyz.split(\"\\n\",2)[2]\n",
    "    name = AZO_ID[i]\n",
    "    line = str(int(len(xyz)/49))\n",
    "    f = open('AZO_CIS-{}.xyz'.format(name),'w+')\n",
    "    f.write(line)\n",
    "    f.write('\\n')\n",
    "    f.write('Molecule ID: {}\\n'.format(name))\n",
    "    f.write(xyz)\n",
    "    f.write('\\n\\n\\n\\n\\n')"
   ]
  },
  {
   "cell_type": "code",
   "execution_count": 17,
   "metadata": {},
   "outputs": [
    {
     "name": "stdout",
     "output_type": "stream",
     "text": [
      "Indices of selected molecules with stereoisomers: [21858, 19308, 5706]\n",
      "Number of selected molecules with stereoisomers: 3\n"
     ]
    }
   ],
   "source": [
    "ints = []\n",
    "for i in index:\n",
    "    m = Chem.MolFromSmiles(AZO_SMI[i])\n",
    "    count = GetStereoisomerCount(m)\n",
    "    if count > 1:\n",
    "        ints.append(i)\n",
    "print('Indices of selected molecules with stereoisomers:', ints)\n",
    "print('Number of selected molecules with stereoisomers:', len(ints))"
   ]
  },
  {
   "cell_type": "markdown",
   "metadata": {},
   "source": [
    "## Diarylethenes"
   ]
  },
  {
   "cell_type": "code",
   "execution_count": null,
   "metadata": {},
   "outputs": [],
   "source": [
    "DIAR_SMI = pd.read_csv(\"Diarylethene_Isomers.csv\", sep=',', header=0)\n",
    "DIAR_ID = DIAR_SMI.iloc[:,3].tolist()\n",
    "DIAR_TRANS = DIAR_SMI.iloc[:,1].tolist()\n",
    "DIAR_CIS = DIAR_SMI.iloc[:,2].tolist()"
   ]
  },
  {
   "cell_type": "code",
   "execution_count": 8,
   "metadata": {},
   "outputs": [
    {
     "data": {
      "text/plain": [
       "90263"
      ]
     },
     "execution_count": 8,
     "metadata": {},
     "output_type": "execute_result"
    }
   ],
   "source": [
    "len(DIAR_ID)"
   ]
  },
  {
   "cell_type": "code",
   "execution_count": 12,
   "metadata": {},
   "outputs": [],
   "source": [
    "obConversion = ob.OBConversion()\n",
    "obConversion.SetInAndOutFormats(\"sdf\", \"xyz\")\n",
    "remover = SaltRemover(defnData=\"[Cl,Br]\")\n",
    "charges=[]\n",
    "#Generate xyz coordinates files\n",
    "for i in range(4000):\n",
    "    smi = DIAR_TRANS[i]\n",
    "    m = Chem.MolFromSmiles(smi)\n",
    "    #Gemove salts and add H\n",
    "    res = remover.StripMol(m)\n",
    "    m2 = Chem.AddHs(res)\n",
    "    \n",
    "    AllChem.EmbedMolecule(m2,useRandomCoords=True)\n",
    "    AllChem.MMFFOptimizeMolecule(m2)\n",
    "    mol_sdf = Chem.MolToMolBlock(m2)\n",
    "\n",
    "    mol = ob.OBMol()\n",
    "    test = obConversion.ReadString(mol, mol_sdf)\n",
    "    xyz = obConversion.WriteString(mol)\n",
    "    xyz = xyz.split(\"\\n\",2)[2]\n",
    "    name = DIAR_ID[i]\n",
    "    line = str(int(len(xyz)/49))\n",
    "    f = open('DIAR_TRANS-{}.xyz'.format(name),'w+')\n",
    "    f.write(line)\n",
    "    f.write('\\n')\n",
    "    f.write('Molecule ID: {}\\n'.format(name))\n",
    "    f.write(xyz)\n",
    "    f.write('\\n\\n\\n\\n\\n')"
   ]
  },
  {
   "cell_type": "code",
   "execution_count": 12,
   "metadata": {},
   "outputs": [],
   "source": [
    "obConversion = ob.OBConversion()\n",
    "obConversion.SetInAndOutFormats(\"sdf\", \"xyz\")\n",
    "remover = SaltRemover(defnData=\"[Cl,Br]\")\n",
    "charges=[]\n",
    "#Generate xyz coordinates files\n",
    "for i in range(4000):\n",
    "    smi = DIAR_CIS[i]\n",
    "    m = Chem.MolFromSmiles(smi)\n",
    "    #Gemove salts and add H\n",
    "    res = remover.StripMol(m)\n",
    "    m2 = Chem.AddHs(res)\n",
    "    \n",
    "    AllChem.EmbedMolecule(m2,useRandomCoords=True)\n",
    "    AllChem.MMFFOptimizeMolecule(m2)\n",
    "    mol_sdf = Chem.MolToMolBlock(m2)\n",
    "\n",
    "    mol = ob.OBMol()\n",
    "    test = obConversion.ReadString(mol, mol_sdf)\n",
    "    xyz = obConversion.WriteString(mol)\n",
    "    xyz = xyz.split(\"\\n\",2)[2]\n",
    "    name = DIAR_ID[i]\n",
    "    line = str(int(len(xyz)/49))\n",
    "    f = open('DIAR_CIS-{}.xyz'.format(name),'w+')\n",
    "    f.write(line)\n",
    "    f.write('\\n')\n",
    "    f.write('Molecule ID: {}\\n'.format(name))\n",
    "    f.write(xyz)\n",
    "    f.write('\\n\\n\\n\\n\\n')"
   ]
  },
  {
   "cell_type": "code",
   "execution_count": 14,
   "metadata": {},
   "outputs": [
    {
     "name": "stdout",
     "output_type": "stream",
     "text": [
      "Indices of selected molecules with stereoisomers: [60107, 82767, 49314, 38220]\n",
      "Number of selected molecules with stereoisomers: 4\n"
     ]
    }
   ],
   "source": [
    "ints = []\n",
    "for i in index:\n",
    "    m = Chem.MolFromSmiles(DIAR_SMI[i])\n",
    "    count = GetStereoisomerCount(m)\n",
    "    if count > 1:\n",
    "        ints.append(i)\n",
    "print('Indices of selected molecules with stereoisomers:', ints)\n",
    "print('Number of selected molecules with stereoisomers:', len(ints))"
   ]
  }
 ],
 "metadata": {
  "kernelspec": {
   "display_name": "Python 3 (ipykernel)",
   "language": "python",
   "name": "python3"
  },
  "language_info": {
   "codemirror_mode": {
    "name": "ipython",
    "version": 3
   },
   "file_extension": ".py",
   "mimetype": "text/x-python",
   "name": "python",
   "nbconvert_exporter": "python",
   "pygments_lexer": "ipython3",
   "version": "3.7.13"
  }
 },
 "nbformat": 4,
 "nbformat_minor": 4
}
